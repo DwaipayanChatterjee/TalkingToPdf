{
 "cells": [
  {
   "cell_type": "code",
   "execution_count": 3,
   "id": "82dde760",
   "metadata": {},
   "outputs": [
    {
     "data": {
      "text/plain": [
       "''"
      ]
     },
     "execution_count": 3,
     "metadata": {},
     "output_type": "execute_result"
    }
   ],
   "source": [
    "from fpdf import FPDF\n",
    "\n",
    "class PDF(FPDF):\n",
    "    def header(self):\n",
    "        self.set_font('Arial', 'B', 14)\n",
    "        self.cell(0, 10, 'Prime Ministers of India (1947 - Present)', ln=True, align='C')\n",
    "        self.ln(10)\n",
    "\n",
    "    def footer(self):\n",
    "        self.set_y(-15)\n",
    "        self.set_font('Arial', 'I', 8)\n",
    "        self.cell(0, 10, f'Page {self.page_no()}', align='C')\n",
    "\n",
    "pm_list = [\n",
    "    (1, \"Jawaharlal Nehru\", \"15 Aug 1947 - 27 May 1964\", \"Indian National Congress\"),\n",
    "    (2, \"Gulzarilal Nanda (Acting)\", \"27 May 1964 - 9 Jun 1964\", \"Indian National Congress\"),\n",
    "    (3, \"Lal Bahadur Shastri\", \"9 Jun 1964 - 11 Jan 1966\", \"Indian National Congress\"),\n",
    "    (4, \"Gulzarilal Nanda (Acting)\", \"11 Jan 1966 - 24 Jan 1966\", \"Indian National Congress\"),\n",
    "    (5, \"Indira Gandhi\", \"24 Jan 1966 - 24 Mar 1977\", \"Indian National Congress\"),\n",
    "    (6, \"Morarji Desai\", \"24 Mar 1977 - 28 Jul 1979\", \"Janata Party\"),\n",
    "    (7, \"Charan Singh\", \"28 Jul 1979 - 14 Jan 1980\", \"Janata Party (Secular)\"),\n",
    "    (8, \"Indira Gandhi\", \"14 Jan 1980 - 31 Oct 1984\", \"Indian National Congress\"),\n",
    "    (9, \"Rajiv Gandhi\", \"31 Oct 1984 - 2 Dec 1989\", \"Indian National Congress\"),\n",
    "    (10, \"Vishwanath Pratap Singh\", \"2 Dec 1989 - 10 Nov 1990\", \"Janata Dal\"),\n",
    "    (11, \"Chandra Shekhar\", \"10 Nov 1990 - 21 Jun 1991\", \"Samajwadi Janata Party\"),\n",
    "    (12, \"P. V. Narasimha Rao\", \"21 Jun 1991 - 16 May 1996\", \"Indian National Congress\"),\n",
    "    (13, \"Atal Bihari Vajpayee\", \"16 May 1996 - 1 Jun 1996\", \"Bharatiya Janata Party\"),\n",
    "    (14, \"H. D. Deve Gowda\", \"1 Jun 1996 - 21 Apr 1997\", \"Janata Dal\"),\n",
    "    (15, \"I. K. Gujral\", \"21 Apr 1997 - 19 Mar 1998\", \"Janata Dal\"),\n",
    "    (16, \"Atal Bihari Vajpayee\", \"19 Mar 1998 - 22 May 2004\", \"Bharatiya Janata Party\"),\n",
    "    (17, \"Manmohan Singh\", \"22 May 2004 - 26 May 2014\", \"Indian National Congress\"),\n",
    "    (18, \"Narendra Modi\", \"26 May 2014 - Present\", \"Bharatiya Janata Party\"),\n",
    "]\n",
    "\n",
    "pdf = PDF()\n",
    "pdf.add_page()\n",
    "pdf.set_font(\"Arial\", size=12)\n",
    "\n",
    "pdf.set_fill_color(200, 220, 255)\n",
    "pdf.cell(10, 10, \"No.\", 1, 0, 'C', fill=True)\n",
    "pdf.cell(50, 10, \"Name\", 1, 0, 'C', fill=True)\n",
    "pdf.cell(65, 10, \"Term\", 1, 0, 'C', fill=True)\n",
    "pdf.cell(65, 10, \"Party\", 1, 1, 'C', fill=True)\n",
    "\n",
    "for pm in pm_list:\n",
    "    pdf.cell(10, 10, str(pm[0]), 1)\n",
    "    pdf.cell(50, 10, pm[1], 1)\n",
    "    pdf.cell(65, 10, pm[2], 1)\n",
    "    pdf.cell(65, 10, pm[3], 1)\n",
    "    pdf.ln()\n",
    "\n",
    "pdf.output(\"Prime_Ministers_of_India.pdf\")\n"
   ]
  },
  {
   "cell_type": "code",
   "execution_count": 6,
   "id": "05b9bad4",
   "metadata": {},
   "outputs": [
    {
     "data": {
      "text/plain": [
       "''"
      ]
     },
     "execution_count": 6,
     "metadata": {},
     "output_type": "execute_result"
    }
   ],
   "source": [
    "from fpdf import FPDF\n",
    "\n",
    "class PresidentPDF(FPDF):\n",
    "    def header(self):\n",
    "        self.set_font('Arial', 'B', 14)\n",
    "        self.cell(0, 10, 'Presidents of India (1950 - Present)', ln=True, align='C')\n",
    "        self.ln(10)\n",
    "\n",
    "    def footer(self):\n",
    "        self.set_y(-15)\n",
    "        self.set_font('Arial', 'I', 8)\n",
    "        self.cell(0, 10, f'Page {self.page_no()}', align='C')\n",
    "\n",
    "# Updated list with plain hyphens instead of en dashes\n",
    "presidents_list = [\n",
    "    (1, \"Dr. Rajendra Prasad\", \"26 Jan 1950 - 13 May 1962\", \"Independent\"),\n",
    "    (2, \"Dr. Sarvepalli Radhakrishnan\", \"13 May 1962 - 13 May 1967\", \"Independent\"),\n",
    "    (3, \"Dr. Zakir Husain\", \"13 May 1967 - 3 May 1969\", \"Independent\"),\n",
    "    (\"-\", \"V. V. Giri (Acting)\", \"3 May 1969 - 20 Jul 1969\", \"Independent\"),\n",
    "    (\"-\", \"Mohammad Hidayatullah (Acting)\", \"20 Jul 1969 - 24 Aug 1969\", \"Independent\"),\n",
    "    (4, \"V. V. Giri\", \"24 Aug 1969 - 24 Aug 1974\", \"Independent\"),\n",
    "    (5, \"Fakhruddin Ali Ahmed\", \"24 Aug 1974 - 11 Feb 1977\", \"Indian National Congress\"),\n",
    "    (\"-\", \"B. D. Jatti (Acting)\", \"11 Feb 1977 - 25 Jul 1977\", \"Indian National Congress\"),\n",
    "    (6, \"Neelam Sanjiva Reddy\", \"25 Jul 1977 - 25 Jul 1982\", \"Janata Party\"),\n",
    "    (7, \"Giani Zail Singh\", \"25 Jul 1982 - 25 Jul 1987\", \"Indian National Congress\"),\n",
    "    (8, \"R. Venkataraman\", \"25 Jul 1987 - 25 Jul 1992\", \"Indian National Congress\"),\n",
    "    (9, \"Dr. Shankar Dayal Sharma\", \"25 Jul 1992 - 25 Jul 1997\", \"Indian National Congress\"),\n",
    "    (10, \"K. R. Narayanan\", \"25 Jul 1997 - 25 Jul 2002\", \"Independent\"),\n",
    "    (11, \"Dr. A. P. J. Abdul Kalam\", \"25 Jul 2002 - 25 Jul 2007\", \"Independent\"),\n",
    "    (12, \"Pratibha Patil\", \"25 Jul 2007 - 25 Jul 2012\", \"Indian National Congress\"),\n",
    "    (13, \"Pranab Mukherjee\", \"25 Jul 2012 - 25 Jul 2017\", \"Indian National Congress\"),\n",
    "    (14, \"Ram Nath Kovind\", \"25 Jul 2017 - 25 Jul 2022\", \"Bharatiya Janata Party\"),\n",
    "    (15, \"Droupadi Murmu\", \"25 Jul 2022 - Present\", \"Bharatiya Janata Party\"),\n",
    "]\n",
    "\n",
    "pdf = PresidentPDF()\n",
    "pdf.add_page()\n",
    "pdf.set_font(\"Arial\", size=12)\n",
    "\n",
    "pdf.set_fill_color(200, 220, 255)\n",
    "pdf.cell(10, 10, \"No.\", 1, 0, 'C', fill=True)\n",
    "pdf.cell(60, 10, \"Name\", 1, 0, 'C', fill=True)\n",
    "pdf.cell(60, 10, \"Term\", 1, 0, 'C', fill=True)\n",
    "pdf.cell(60, 10, \"Affiliation\", 1, 1, 'C', fill=True)\n",
    "\n",
    "for p in presidents_list:\n",
    "    pdf.cell(10, 10, str(p[0]), 1)\n",
    "    pdf.cell(60, 10, p[1], 1)\n",
    "    pdf.cell(60, 10, p[2], 1)\n",
    "    pdf.cell(60, 10, p[3], 1)\n",
    "    pdf.ln()\n",
    "\n",
    "pdf.output(\"Presidents_of_India.pdf\")\n"
   ]
  },
  {
   "cell_type": "code",
   "execution_count": null,
   "id": "ee8ae515",
   "metadata": {},
   "outputs": [],
   "source": []
  }
 ],
 "metadata": {
  "kernelspec": {
   "display_name": "Python 3",
   "language": "python",
   "name": "python3"
  },
  "language_info": {
   "codemirror_mode": {
    "name": "ipython",
    "version": 3
   },
   "file_extension": ".py",
   "mimetype": "text/x-python",
   "name": "python",
   "nbconvert_exporter": "python",
   "pygments_lexer": "ipython3",
   "version": "3.9.6"
  }
 },
 "nbformat": 4,
 "nbformat_minor": 5
}
